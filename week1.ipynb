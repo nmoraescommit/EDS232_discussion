{
 "cells": [
  {
   "cell_type": "code",
   "execution_count": 3,
   "id": "6ddb396c-c8a5-4767-9cc2-e6f8ed77c680",
   "metadata": {
    "tags": []
   },
   "outputs": [],
   "source": [
    "import pandas as pd\n",
    "import numpy as np\n",
    "from sklearn.linear_model import LinearRegression\n",
    "from sklearn.model_selection import train_test_split\n",
    "from sklearn.metrics import mean_squared_error, r2_score\n",
    "import matplotlib.pyplot as plt\n",
    "from ipywidgets import interact\n",
    "import ipywidgets as widgets\n",
    "from ipywidgets import interact, FloatSlider\n",
    "from IPython.display import display, clear_output"
   ]
  },
  {
   "cell_type": "code",
   "execution_count": 8,
   "id": "5716a095-504b-407a-acd6-ec4326df5bc2",
   "metadata": {
    "tags": []
   },
   "outputs": [],
   "source": [
    "# Load the data\n",
    "fp = 'data/hurricane.xlsx'\n",
    "do_data = pd.read_excel(fp, sheet_name = 5).drop(['Piermont D.O. (ppm)'], axis = 1)\n",
    "rainfall_data = pd.read_excel(fp, sheet_name = 'Rainfall').drop(['Piermont  Rainfall Daily Accumulation (Inches)'], axis = 1)\n",
    "turbidity_data = pd.read_excel(fp, sheet_name = 'Turbidity').drop(['Piermont Turbidity in NTU'], axis = 1)"
   ]
  },
  {
   "cell_type": "code",
   "execution_count": 14,
   "id": "7b6a16a9-1f3c-4413-a0f0-c3f65db08277",
   "metadata": {
    "tags": []
   },
   "outputs": [
    {
     "data": {
      "text/html": [
       "<div>\n",
       "<style scoped>\n",
       "    .dataframe tbody tr th:only-of-type {\n",
       "        vertical-align: middle;\n",
       "    }\n",
       "\n",
       "    .dataframe tbody tr th {\n",
       "        vertical-align: top;\n",
       "    }\n",
       "\n",
       "    .dataframe thead th {\n",
       "        text-align: right;\n",
       "    }\n",
       "</style>\n",
       "<table border=\"1\" class=\"dataframe\">\n",
       "  <thead>\n",
       "    <tr style=\"text-align: right;\">\n",
       "      <th></th>\n",
       "      <th>Date Time (ET)</th>\n",
       "      <th>Port of Albany Rainfall Daily Accumulation (Inches)</th>\n",
       "      <th>Norrie Point  Rainfall Daily Accumulation (Inches)</th>\n",
       "      <th>Port of Albany Turbidity in NTU</th>\n",
       "      <th>Norrie Point Turbidity in NTU</th>\n",
       "      <th>Port of Albany D.O. (ppm)</th>\n",
       "      <th>Norrie Point D.O. (ppm)</th>\n",
       "    </tr>\n",
       "  </thead>\n",
       "  <tbody>\n",
       "    <tr>\n",
       "      <th>0</th>\n",
       "      <td>2011-08-25 00:00:00</td>\n",
       "      <td>0.0</td>\n",
       "      <td>0.0</td>\n",
       "      <td>4.0</td>\n",
       "      <td>9.3</td>\n",
       "      <td>7.68</td>\n",
       "      <td>7.81</td>\n",
       "    </tr>\n",
       "    <tr>\n",
       "      <th>1</th>\n",
       "      <td>2011-08-25 00:15:00</td>\n",
       "      <td>0.0</td>\n",
       "      <td>0.0</td>\n",
       "      <td>3.9</td>\n",
       "      <td>8.4</td>\n",
       "      <td>7.60</td>\n",
       "      <td>7.73</td>\n",
       "    </tr>\n",
       "    <tr>\n",
       "      <th>2</th>\n",
       "      <td>2011-08-25 00:30:00</td>\n",
       "      <td>0.0</td>\n",
       "      <td>0.0</td>\n",
       "      <td>4.3</td>\n",
       "      <td>7.9</td>\n",
       "      <td>7.57</td>\n",
       "      <td>7.63</td>\n",
       "    </tr>\n",
       "    <tr>\n",
       "      <th>3</th>\n",
       "      <td>2011-08-25 00:45:00</td>\n",
       "      <td>0.0</td>\n",
       "      <td>0.0</td>\n",
       "      <td>4.7</td>\n",
       "      <td>8.1</td>\n",
       "      <td>7.72</td>\n",
       "      <td>7.67</td>\n",
       "    </tr>\n",
       "    <tr>\n",
       "      <th>4</th>\n",
       "      <td>2011-08-25 01:00:00</td>\n",
       "      <td>0.0</td>\n",
       "      <td>0.0</td>\n",
       "      <td>4.4</td>\n",
       "      <td>8.4</td>\n",
       "      <td>7.74</td>\n",
       "      <td>7.63</td>\n",
       "    </tr>\n",
       "  </tbody>\n",
       "</table>\n",
       "</div>"
      ],
      "text/plain": [
       "       Date Time (ET)   Port of Albany Rainfall Daily Accumulation (Inches)  \\\n",
       "0 2011-08-25 00:00:00                                                0.0      \n",
       "1 2011-08-25 00:15:00                                                0.0      \n",
       "2 2011-08-25 00:30:00                                                0.0      \n",
       "3 2011-08-25 00:45:00                                                0.0      \n",
       "4 2011-08-25 01:00:00                                                0.0      \n",
       "\n",
       "   Norrie Point  Rainfall Daily Accumulation (Inches)  \\\n",
       "0                                                0.0    \n",
       "1                                                0.0    \n",
       "2                                                0.0    \n",
       "3                                                0.0    \n",
       "4                                                0.0    \n",
       "\n",
       "    Port of Albany Turbidity in NTU  Norrie Point Turbidity in NTU  \\\n",
       "0                               4.0                            9.3   \n",
       "1                               3.9                            8.4   \n",
       "2                               4.3                            7.9   \n",
       "3                               4.7                            8.1   \n",
       "4                               4.4                            8.4   \n",
       "\n",
       "    Port of Albany D.O. (ppm)  Norrie Point D.O. (ppm)  \n",
       "0                        7.68                     7.81  \n",
       "1                        7.60                     7.73  \n",
       "2                        7.57                     7.63  \n",
       "3                        7.72                     7.67  \n",
       "4                        7.74                     7.63  "
      ]
     },
     "execution_count": 14,
     "metadata": {},
     "output_type": "execute_result"
    }
   ],
   "source": [
    "# Merge DF\n",
    "\n",
    "data = rainfall_data.merge(turbidity_data, on = 'Date Time (ET)')\n",
    "data = data.merge(do_data, on = 'Date Time (ET)')\n",
    "data.head()"
   ]
  },
  {
   "cell_type": "code",
   "execution_count": 16,
   "id": "35fcac1f-b6d7-46b7-9ddc-72668dfbadbe",
   "metadata": {
    "tags": []
   },
   "outputs": [],
   "source": [
    "# Update col names\n",
    "data.columns = ['date', 'albany_rainfall', 'norrie_rainfall', 'albany_turbidity', 'norrie_turbidity', 'albany_do', 'norrie_do']"
   ]
  },
  {
   "cell_type": "code",
   "execution_count": 17,
   "id": "2c94c4c5-1409-4278-be2f-b8699b38ac88",
   "metadata": {
    "tags": []
   },
   "outputs": [
    {
     "data": {
      "text/html": [
       "<div>\n",
       "<style scoped>\n",
       "    .dataframe tbody tr th:only-of-type {\n",
       "        vertical-align: middle;\n",
       "    }\n",
       "\n",
       "    .dataframe tbody tr th {\n",
       "        vertical-align: top;\n",
       "    }\n",
       "\n",
       "    .dataframe thead th {\n",
       "        text-align: right;\n",
       "    }\n",
       "</style>\n",
       "<table border=\"1\" class=\"dataframe\">\n",
       "  <thead>\n",
       "    <tr style=\"text-align: right;\">\n",
       "      <th></th>\n",
       "      <th>date</th>\n",
       "      <th>albany_rainfall</th>\n",
       "      <th>norrie_rainfall</th>\n",
       "      <th>albany_turbidity</th>\n",
       "      <th>norrie_turbidity</th>\n",
       "      <th>albany_do</th>\n",
       "      <th>norrie_do</th>\n",
       "    </tr>\n",
       "  </thead>\n",
       "  <tbody>\n",
       "    <tr>\n",
       "      <th>0</th>\n",
       "      <td>2011-08-25 00:00:00</td>\n",
       "      <td>0.0</td>\n",
       "      <td>0.0</td>\n",
       "      <td>4.0</td>\n",
       "      <td>9.3</td>\n",
       "      <td>7.68</td>\n",
       "      <td>7.81</td>\n",
       "    </tr>\n",
       "    <tr>\n",
       "      <th>1</th>\n",
       "      <td>2011-08-25 00:15:00</td>\n",
       "      <td>0.0</td>\n",
       "      <td>0.0</td>\n",
       "      <td>3.9</td>\n",
       "      <td>8.4</td>\n",
       "      <td>7.60</td>\n",
       "      <td>7.73</td>\n",
       "    </tr>\n",
       "  </tbody>\n",
       "</table>\n",
       "</div>"
      ],
      "text/plain": [
       "                 date  albany_rainfall  norrie_rainfall  albany_turbidity  \\\n",
       "0 2011-08-25 00:00:00              0.0              0.0               4.0   \n",
       "1 2011-08-25 00:15:00              0.0              0.0               3.9   \n",
       "\n",
       "   norrie_turbidity  albany_do  norrie_do  \n",
       "0               9.3       7.68       7.81  \n",
       "1               8.4       7.60       7.73  "
      ]
     },
     "execution_count": 17,
     "metadata": {},
     "output_type": "execute_result"
    }
   ],
   "source": [
    "data.head(2)"
   ]
  },
  {
   "cell_type": "code",
   "execution_count": 21,
   "id": "3c364740-840e-4c5a-9f2a-1371be5cbf2c",
   "metadata": {
    "tags": []
   },
   "outputs": [],
   "source": [
    "# Define predictors and the target variable\n",
    "X = data[['albany_rainfall', 'albany_do']]\n",
    "y = data[['albany_turbidity']]\n",
    "\n",
    "# Splt the data into training and testing sets\n",
    "X_train, X_test, y_train, y_test = train_test_split(X, y, test_size = 0.3, random_state = 42)\n",
    "\n",
    "# Create and fit the model\n",
    "model = LinearRegression().fit(X_train, y_train)\n",
    "\n",
    "# Predict and evaluate\n",
    "y_pred = model.predict(X_test)"
   ]
  },
  {
   "cell_type": "code",
   "execution_count": 25,
   "id": "c4489877-6157-448f-8503-8cada8fdfc19",
   "metadata": {
    "tags": []
   },
   "outputs": [
    {
     "name": "stdout",
     "output_type": "stream",
     "text": [
      "RMSE:221.9143474905527\n",
      "R-squared: 0.490738951845751\n"
     ]
    }
   ],
   "source": [
    "print(f\"RMSE:{np.sqrt(mean_squared_error(y_test,y_pred))}\")\n",
    "print(f\"R-squared: {r2_score(y_test, y_pred)}\")"
   ]
  },
  {
   "cell_type": "code",
   "execution_count": 32,
   "id": "e5ee6b91-0235-4001-8ad2-3555f55394ec",
   "metadata": {
    "tags": []
   },
   "outputs": [
    {
     "data": {
      "application/vnd.jupyter.widget-view+json": {
       "model_id": "d3e13614593a4031b4f135d4e16bc3d7",
       "version_major": 2,
       "version_minor": 0
      },
      "text/plain": [
       "SelectMultiple(description='Predictors', index=(0,), options=('date', 'albany_rainfall', 'norrie_rainfall', 'a…"
      ]
     },
     "metadata": {},
     "output_type": "display_data"
    },
    {
     "data": {
      "application/vnd.jupyter.widget-view+json": {
       "model_id": "8deac5caf6a6469a9b723053283d8414",
       "version_major": 2,
       "version_minor": 0
      },
      "text/plain": [
       "Dropdown(description='Target', index=1, options=('date', 'albany_rainfall', 'norrie_rainfall', 'albany_turbidi…"
      ]
     },
     "metadata": {},
     "output_type": "display_data"
    },
    {
     "data": {
      "application/vnd.jupyter.widget-view+json": {
       "model_id": "82e7d1997ee14b9a9e63e21939cb83c8",
       "version_major": 2,
       "version_minor": 0
      },
      "text/plain": [
       "Button(description='Evaluate Model', style=ButtonStyle())"
      ]
     },
     "metadata": {},
     "output_type": "display_data"
    },
    {
     "data": {
      "application/vnd.jupyter.widget-view+json": {
       "model_id": "94fd086dcd524994ac56dec183cb251f",
       "version_major": 2,
       "version_minor": 0
      },
      "text/plain": [
       "Output()"
      ]
     },
     "metadata": {},
     "output_type": "display_data"
    }
   ],
   "source": [
    "# dCreate a widget for selecting predictors\n",
    "predictor_selector = widgets.SelectMultiple(\n",
    "    options = data.columns,\n",
    "    value = [data.columns[0]],\n",
    "    description = 'Predictors'\n",
    ")\n",
    "\n",
    "\n",
    "# Create a dropdown for selecting the target variable\n",
    "target_selector =  widgets.Dropdown(\n",
    "    options = data.columns,\n",
    "    value = data.columns[1],\n",
    "    description = 'Target'\n",
    ")\n",
    "\n",
    "# Button to evaluate the model\n",
    "evaluate_button = widgets.Button(description = 'Evaluate Model')\n",
    "\n",
    "# Output widget ti display results\n",
    "output = widgets.Output()\n",
    "\n",
    "# Define the function to handle button clicks\n",
    "def evaluate_model(b):\n",
    "    with output:\n",
    "        clear_output(wait = True) # Clear output of disply area\n",
    "        \n",
    "        # Make sure the tadget is not in the predictors\n",
    "        selected_predictors = [item for item in predictor_selector.value]\n",
    "        if target_selector.value in selected_predictors:\n",
    "            print('Target variable must not be in the predictors.')\n",
    "            \n",
    "        # Prepare the data\n",
    "        X = data[selected_predictors]\n",
    "        y = data[target_selector.value]\n",
    "\n",
    "        \n",
    "        # split data into training and testing sets\n",
    "        X_train, X_test, y_train, y_test = train_test_split(X, y, test_size = 0.3, random_state = 42)\n",
    "        \n",
    "        # Create and fit the model\n",
    "        model = LinearRegression()\n",
    "        model.fit(X_train, y_train)\n",
    "        \n",
    "        # Predict and calculate R^2\n",
    "        y_pred = model.predict(X_test)\n",
    "        r2 = r2_score(y_test, y_pred)\n",
    "        root_mse = np.sqrt(mean_squared_error(y_test,y_pred))\n",
    "        \n",
    "        # Display the R^2 score and MSE\n",
    "        print(f'R^2: {r2: .4f}')\n",
    "        print(f'MSE: {mse: .4f}')\n",
    "        \n",
    "# Display the widgets ad connect the buttn the the function\n",
    "display(predictor_selector, target_selector, evaluate_button, output)\n",
    "evaluate_button.on_click(evaluate_model)"
   ]
  }
 ],
 "metadata": {
  "kernelspec": {
   "display_name": "Anaconda 3 (EDS232)",
   "language": "python",
   "name": "ml-env"
  },
  "language_info": {
   "codemirror_mode": {
    "name": "ipython",
    "version": 3
   },
   "file_extension": ".py",
   "mimetype": "text/x-python",
   "name": "python",
   "nbconvert_exporter": "python",
   "pygments_lexer": "ipython3",
   "version": "3.10.16"
  }
 },
 "nbformat": 4,
 "nbformat_minor": 5
}
